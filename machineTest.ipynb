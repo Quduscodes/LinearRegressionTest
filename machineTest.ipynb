import numpy as np
import pandas as pd 
import matplotlib.pyplot as plt

columns=['x','y']

df = pd.read_csv('C:\\Users\\READY\\Desktop\\excel\\linear_regression_test.csv')

dataSet = pd.DataFrame(df)
dataSet = dataSet.rename({'0':'x'})

x = dataSet['x']



